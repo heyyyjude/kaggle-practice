{
 "cells": [
  {
   "cell_type": "code",
   "execution_count": 3,
   "metadata": {},
   "outputs": [],
   "source": [
    "pacman::p_load(\"tidyverse\", \"ggpubr\")"
   ]
  },
  {
   "cell_type": "code",
   "execution_count": 4,
   "metadata": {},
   "outputs": [
    {
     "data": {
      "text/html": [
       "<table>\n",
       "<caption>A data.frame: 10 × 3</caption>\n",
       "<thead>\n",
       "\t<tr><th scope=col>id</th><th scope=col>days</th><th scope=col>group</th></tr>\n",
       "\t<tr><th scope=col>&lt;int&gt;</th><th scope=col>&lt;dbl&gt;</th><th scope=col>&lt;fct&gt;</th></tr>\n",
       "</thead>\n",
       "<tbody>\n",
       "\t<tr><td> 1</td><td>5.3</td><td>1</td></tr>\n",
       "\t<tr><td> 2</td><td>6.0</td><td>1</td></tr>\n",
       "\t<tr><td> 3</td><td>6.7</td><td>1</td></tr>\n",
       "\t<tr><td> 4</td><td>5.5</td><td>2</td></tr>\n",
       "\t<tr><td> 5</td><td>6.2</td><td>2</td></tr>\n",
       "\t<tr><td> 6</td><td>6.4</td><td>2</td></tr>\n",
       "\t<tr><td> 7</td><td>5.7</td><td>2</td></tr>\n",
       "\t<tr><td> 8</td><td>7.5</td><td>3</td></tr>\n",
       "\t<tr><td> 9</td><td>7.2</td><td>3</td></tr>\n",
       "\t<tr><td>10</td><td>7.9</td><td>3</td></tr>\n",
       "</tbody>\n",
       "</table>\n"
      ],
      "text/latex": [
       "A data.frame: 10 × 3\n",
       "\\begin{tabular}{lll}\n",
       " id & days & group\\\\\n",
       " <int> & <dbl> & <fct>\\\\\n",
       "\\hline\n",
       "\t  1 & 5.3 & 1\\\\\n",
       "\t  2 & 6.0 & 1\\\\\n",
       "\t  3 & 6.7 & 1\\\\\n",
       "\t  4 & 5.5 & 2\\\\\n",
       "\t  5 & 6.2 & 2\\\\\n",
       "\t  6 & 6.4 & 2\\\\\n",
       "\t  7 & 5.7 & 2\\\\\n",
       "\t  8 & 7.5 & 3\\\\\n",
       "\t  9 & 7.2 & 3\\\\\n",
       "\t 10 & 7.9 & 3\\\\\n",
       "\\end{tabular}\n"
      ],
      "text/markdown": [
       "\n",
       "A data.frame: 10 × 3\n",
       "\n",
       "| id &lt;int&gt; | days &lt;dbl&gt; | group &lt;fct&gt; |\n",
       "|---|---|---|\n",
       "|  1 | 5.3 | 1 |\n",
       "|  2 | 6.0 | 1 |\n",
       "|  3 | 6.7 | 1 |\n",
       "|  4 | 5.5 | 2 |\n",
       "|  5 | 6.2 | 2 |\n",
       "|  6 | 6.4 | 2 |\n",
       "|  7 | 5.7 | 2 |\n",
       "|  8 | 7.5 | 3 |\n",
       "|  9 | 7.2 | 3 |\n",
       "| 10 | 7.9 | 3 |\n",
       "\n"
      ],
      "text/plain": [
       "   id days group\n",
       "1   1 5.3  1    \n",
       "2   2 6.0  1    \n",
       "3   3 6.7  1    \n",
       "4   4 5.5  2    \n",
       "5   5 6.2  2    \n",
       "6   6 6.4  2    \n",
       "7   7 5.7  2    \n",
       "8   8 7.5  3    \n",
       "9   9 7.2  3    \n",
       "10 10 7.9  3    "
      ]
     },
     "metadata": {},
     "output_type": "display_data"
    }
   ],
   "source": [
    "df <- data.frame(id=c(1:10), days=c(5.3,6.0,6.7,5.5,6.2,6.4,5.7,7.5,7.2,7.9), group=as.factor(c(1,1,1,2,2,2,2,3,3,3)))\n",
    "df"
   ]
  },
  {
   "cell_type": "code",
   "execution_count": 5,
   "metadata": {},
   "outputs": [
    {
     "data": {
      "image/png": "[encoded data removed]",
      "text/plain": [
       "plot without title"
      ]
     },
     "metadata": {
      "image/png": {
       "height": 420,
       "width": 420
      }
     },
     "output_type": "display_data"
    }
   ],
   "source": [
    "ggboxplot(df, x='group', y='days', col='group', add='jitter')"
   ]
  },
  {
   "cell_type": "code",
   "execution_count": 6,
   "metadata": {},
   "outputs": [
    {
     "data": {
      "text/html": [
       "<table>\n",
       "<caption>A grouped_df: 10 × 4</caption>\n",
       "<thead>\n",
       "\t<tr><th scope=col>id</th><th scope=col>days</th><th scope=col>group</th><th scope=col>group.mean</th></tr>\n",
       "\t<tr><th scope=col>&lt;int&gt;</th><th scope=col>&lt;dbl&gt;</th><th scope=col>&lt;fct&gt;</th><th scope=col>&lt;dbl&gt;</th></tr>\n",
       "</thead>\n",
       "<tbody>\n",
       "\t<tr><td> 1</td><td>5.3</td><td>1</td><td>6.000000</td></tr>\n",
       "\t<tr><td> 2</td><td>6.0</td><td>1</td><td>6.000000</td></tr>\n",
       "\t<tr><td> 3</td><td>6.7</td><td>1</td><td>6.000000</td></tr>\n",
       "\t<tr><td> 4</td><td>5.5</td><td>2</td><td>5.950000</td></tr>\n",
       "\t<tr><td> 5</td><td>6.2</td><td>2</td><td>5.950000</td></tr>\n",
       "\t<tr><td> 6</td><td>6.4</td><td>2</td><td>5.950000</td></tr>\n",
       "\t<tr><td> 7</td><td>5.7</td><td>2</td><td>5.950000</td></tr>\n",
       "\t<tr><td> 8</td><td>7.5</td><td>3</td><td>7.533333</td></tr>\n",
       "\t<tr><td> 9</td><td>7.2</td><td>3</td><td>7.533333</td></tr>\n",
       "\t<tr><td>10</td><td>7.9</td><td>3</td><td>7.533333</td></tr>\n",
       "</tbody>\n",
       "</table>\n"
      ],
      "text/latex": [
       "A grouped\\_df: 10 × 4\n",
       "\\begin{tabular}{llll}\n",
       " id & days & group & group.mean\\\\\n",
       " <int> & <dbl> & <fct> & <dbl>\\\\\n",
       "\\hline\n",
       "\t  1 & 5.3 & 1 & 6.000000\\\\\n",
       "\t  2 & 6.0 & 1 & 6.000000\\\\\n",
       "\t  3 & 6.7 & 1 & 6.000000\\\\\n",
       "\t  4 & 5.5 & 2 & 5.950000\\\\\n",
       "\t  5 & 6.2 & 2 & 5.950000\\\\\n",
       "\t  6 & 6.4 & 2 & 5.950000\\\\\n",
       "\t  7 & 5.7 & 2 & 5.950000\\\\\n",
       "\t  8 & 7.5 & 3 & 7.533333\\\\\n",
       "\t  9 & 7.2 & 3 & 7.533333\\\\\n",
       "\t 10 & 7.9 & 3 & 7.533333\\\\\n",
       "\\end{tabular}\n"
      ],
      "text/markdown": [
       "\n",
       "A grouped_df: 10 × 4\n",
       "\n",
       "| id &lt;int&gt; | days &lt;dbl&gt; | group &lt;fct&gt; | group.mean &lt;dbl&gt; |\n",
       "|---|---|---|---|\n",
       "|  1 | 5.3 | 1 | 6.000000 |\n",
       "|  2 | 6.0 | 1 | 6.000000 |\n",
       "|  3 | 6.7 | 1 | 6.000000 |\n",
       "|  4 | 5.5 | 2 | 5.950000 |\n",
       "|  5 | 6.2 | 2 | 5.950000 |\n",
       "|  6 | 6.4 | 2 | 5.950000 |\n",
       "|  7 | 5.7 | 2 | 5.950000 |\n",
       "|  8 | 7.5 | 3 | 7.533333 |\n",
       "|  9 | 7.2 | 3 | 7.533333 |\n",
       "| 10 | 7.9 | 3 | 7.533333 |\n",
       "\n"
      ],
      "text/plain": [
       "   id days group group.mean\n",
       "1   1 5.3  1     6.000000  \n",
       "2   2 6.0  1     6.000000  \n",
       "3   3 6.7  1     6.000000  \n",
       "4   4 5.5  2     5.950000  \n",
       "5   5 6.2  2     5.950000  \n",
       "6   6 6.4  2     5.950000  \n",
       "7   7 5.7  2     5.950000  \n",
       "8   8 7.5  3     7.533333  \n",
       "9   9 7.2  3     7.533333  \n",
       "10 10 7.9  3     7.533333  "
      ]
     },
     "metadata": {},
     "output_type": "display_data"
    }
   ],
   "source": [
    "df.added.mean <- df %>% group_by(group) %>% mutate(group.mean=mean(days))\n",
    "df.added.mean"
   ]
  },
  {
   "cell_type": "code",
   "execution_count": 8,
   "metadata": {},
   "outputs": [
    {
     "data": {
      "text/html": [
       "<table>\n",
       "<caption>A grouped_df: 10 × 5</caption>\n",
       "<thead>\n",
       "\t<tr><th scope=col>id</th><th scope=col>days</th><th scope=col>group</th><th scope=col>group.mean</th><th scope=col>btwn</th></tr>\n",
       "\t<tr><th scope=col>&lt;int&gt;</th><th scope=col>&lt;dbl&gt;</th><th scope=col>&lt;fct&gt;</th><th scope=col>&lt;dbl&gt;</th><th scope=col>&lt;dbl&gt;</th></tr>\n",
       "</thead>\n",
       "<tbody>\n",
       "\t<tr><td> 1</td><td>5.3</td><td>1</td><td>6.000000</td><td>0.193600</td></tr>\n",
       "\t<tr><td> 2</td><td>6.0</td><td>1</td><td>6.000000</td><td>0.193600</td></tr>\n",
       "\t<tr><td> 3</td><td>6.7</td><td>1</td><td>6.000000</td><td>0.193600</td></tr>\n",
       "\t<tr><td> 4</td><td>5.5</td><td>2</td><td>5.950000</td><td>0.240100</td></tr>\n",
       "\t<tr><td> 5</td><td>6.2</td><td>2</td><td>5.950000</td><td>0.240100</td></tr>\n",
       "\t<tr><td> 6</td><td>6.4</td><td>2</td><td>5.950000</td><td>0.240100</td></tr>\n",
       "\t<tr><td> 7</td><td>5.7</td><td>2</td><td>5.950000</td><td>0.240100</td></tr>\n",
       "\t<tr><td> 8</td><td>7.5</td><td>3</td><td>7.533333</td><td>1.195378</td></tr>\n",
       "\t<tr><td> 9</td><td>7.2</td><td>3</td><td>7.533333</td><td>1.195378</td></tr>\n",
       "\t<tr><td>10</td><td>7.9</td><td>3</td><td>7.533333</td><td>1.195378</td></tr>\n",
       "</tbody>\n",
       "</table>\n"
      ],
      "text/latex": [
       "A grouped\\_df: 10 × 5\n",
       "\\begin{tabular}{lllll}\n",
       " id & days & group & group.mean & btwn\\\\\n",
       " <int> & <dbl> & <fct> & <dbl> & <dbl>\\\\\n",
       "\\hline\n",
       "\t  1 & 5.3 & 1 & 6.000000 & 0.193600\\\\\n",
       "\t  2 & 6.0 & 1 & 6.000000 & 0.193600\\\\\n",
       "\t  3 & 6.7 & 1 & 6.000000 & 0.193600\\\\\n",
       "\t  4 & 5.5 & 2 & 5.950000 & 0.240100\\\\\n",
       "\t  5 & 6.2 & 2 & 5.950000 & 0.240100\\\\\n",
       "\t  6 & 6.4 & 2 & 5.950000 & 0.240100\\\\\n",
       "\t  7 & 5.7 & 2 & 5.950000 & 0.240100\\\\\n",
       "\t  8 & 7.5 & 3 & 7.533333 & 1.195378\\\\\n",
       "\t  9 & 7.2 & 3 & 7.533333 & 1.195378\\\\\n",
       "\t 10 & 7.9 & 3 & 7.533333 & 1.195378\\\\\n",
       "\\end{tabular}\n"
      ],
      "text/markdown": [
       "\n",
       "A grouped_df: 10 × 5\n",
       "\n",
       "| id &lt;int&gt; | days &lt;dbl&gt; | group &lt;fct&gt; | group.mean &lt;dbl&gt; | btwn &lt;dbl&gt; |\n",
       "|---|---|---|---|---|\n",
       "|  1 | 5.3 | 1 | 6.000000 | 0.193600 |\n",
       "|  2 | 6.0 | 1 | 6.000000 | 0.193600 |\n",
       "|  3 | 6.7 | 1 | 6.000000 | 0.193600 |\n",
       "|  4 | 5.5 | 2 | 5.950000 | 0.240100 |\n",
       "|  5 | 6.2 | 2 | 5.950000 | 0.240100 |\n",
       "|  6 | 6.4 | 2 | 5.950000 | 0.240100 |\n",
       "|  7 | 5.7 | 2 | 5.950000 | 0.240100 |\n",
       "|  8 | 7.5 | 3 | 7.533333 | 1.195378 |\n",
       "|  9 | 7.2 | 3 | 7.533333 | 1.195378 |\n",
       "| 10 | 7.9 | 3 | 7.533333 | 1.195378 |\n",
       "\n"
      ],
      "text/plain": [
       "   id days group group.mean btwn    \n",
       "1   1 5.3  1     6.000000   0.193600\n",
       "2   2 6.0  1     6.000000   0.193600\n",
       "3   3 6.7  1     6.000000   0.193600\n",
       "4   4 5.5  2     5.950000   0.240100\n",
       "5   5 6.2  2     5.950000   0.240100\n",
       "6   6 6.4  2     5.950000   0.240100\n",
       "7   7 5.7  2     5.950000   0.240100\n",
       "8   8 7.5  3     7.533333   1.195378\n",
       "9   9 7.2  3     7.533333   1.195378\n",
       "10 10 7.9  3     7.533333   1.195378"
      ]
     },
     "metadata": {},
     "output_type": "display_data"
    }
   ],
   "source": [
    "df.added.mean$btwn <- (df.added.mean$group.mean - mean(df.added.mean$days))^2\n",
    "df.added.mean"
   ]
  },
  {
   "cell_type": "code",
   "execution_count": 9,
   "metadata": {},
   "outputs": [
    {
     "data": {
      "text/html": [
       "<table>\n",
       "<caption>A grouped_df: 10 × 6</caption>\n",
       "<thead>\n",
       "\t<tr><th scope=col>id</th><th scope=col>days</th><th scope=col>group</th><th scope=col>group.mean</th><th scope=col>btwn</th><th scope=col>wthin</th></tr>\n",
       "\t<tr><th scope=col>&lt;int&gt;</th><th scope=col>&lt;dbl&gt;</th><th scope=col>&lt;fct&gt;</th><th scope=col>&lt;dbl&gt;</th><th scope=col>&lt;dbl&gt;</th><th scope=col>&lt;dbl&gt;</th></tr>\n",
       "</thead>\n",
       "<tbody>\n",
       "\t<tr><td> 1</td><td>5.3</td><td>1</td><td>6.000000</td><td>0.193600</td><td>0.490000000</td></tr>\n",
       "\t<tr><td> 2</td><td>6.0</td><td>1</td><td>6.000000</td><td>0.193600</td><td>0.000000000</td></tr>\n",
       "\t<tr><td> 3</td><td>6.7</td><td>1</td><td>6.000000</td><td>0.193600</td><td>0.490000000</td></tr>\n",
       "\t<tr><td> 4</td><td>5.5</td><td>2</td><td>5.950000</td><td>0.240100</td><td>0.202500000</td></tr>\n",
       "\t<tr><td> 5</td><td>6.2</td><td>2</td><td>5.950000</td><td>0.240100</td><td>0.062500000</td></tr>\n",
       "\t<tr><td> 6</td><td>6.4</td><td>2</td><td>5.950000</td><td>0.240100</td><td>0.202500000</td></tr>\n",
       "\t<tr><td> 7</td><td>5.7</td><td>2</td><td>5.950000</td><td>0.240100</td><td>0.062500000</td></tr>\n",
       "\t<tr><td> 8</td><td>7.5</td><td>3</td><td>7.533333</td><td>1.195378</td><td>0.001111111</td></tr>\n",
       "\t<tr><td> 9</td><td>7.2</td><td>3</td><td>7.533333</td><td>1.195378</td><td>0.111111111</td></tr>\n",
       "\t<tr><td>10</td><td>7.9</td><td>3</td><td>7.533333</td><td>1.195378</td><td>0.134444444</td></tr>\n",
       "</tbody>\n",
       "</table>\n"
      ],
      "text/latex": [
       "A grouped\\_df: 10 × 6\n",
       "\\begin{tabular}{llllll}\n",
       " id & days & group & group.mean & btwn & wthin\\\\\n",
       " <int> & <dbl> & <fct> & <dbl> & <dbl> & <dbl>\\\\\n",
       "\\hline\n",
       "\t  1 & 5.3 & 1 & 6.000000 & 0.193600 & 0.490000000\\\\\n",
       "\t  2 & 6.0 & 1 & 6.000000 & 0.193600 & 0.000000000\\\\\n",
       "\t  3 & 6.7 & 1 & 6.000000 & 0.193600 & 0.490000000\\\\\n",
       "\t  4 & 5.5 & 2 & 5.950000 & 0.240100 & 0.202500000\\\\\n",
       "\t  5 & 6.2 & 2 & 5.950000 & 0.240100 & 0.062500000\\\\\n",
       "\t  6 & 6.4 & 2 & 5.950000 & 0.240100 & 0.202500000\\\\\n",
       "\t  7 & 5.7 & 2 & 5.950000 & 0.240100 & 0.062500000\\\\\n",
       "\t  8 & 7.5 & 3 & 7.533333 & 1.195378 & 0.001111111\\\\\n",
       "\t  9 & 7.2 & 3 & 7.533333 & 1.195378 & 0.111111111\\\\\n",
       "\t 10 & 7.9 & 3 & 7.533333 & 1.195378 & 0.134444444\\\\\n",
       "\\end{tabular}\n"
      ],
      "text/markdown": [
       "\n",
       "A grouped_df: 10 × 6\n",
       "\n",
       "| id &lt;int&gt; | days &lt;dbl&gt; | group &lt;fct&gt; | group.mean &lt;dbl&gt; | btwn &lt;dbl&gt; | wthin &lt;dbl&gt; |\n",
       "|---|---|---|---|---|---|\n",
       "|  1 | 5.3 | 1 | 6.000000 | 0.193600 | 0.490000000 |\n",
       "|  2 | 6.0 | 1 | 6.000000 | 0.193600 | 0.000000000 |\n",
       "|  3 | 6.7 | 1 | 6.000000 | 0.193600 | 0.490000000 |\n",
       "|  4 | 5.5 | 2 | 5.950000 | 0.240100 | 0.202500000 |\n",
       "|  5 | 6.2 | 2 | 5.950000 | 0.240100 | 0.062500000 |\n",
       "|  6 | 6.4 | 2 | 5.950000 | 0.240100 | 0.202500000 |\n",
       "|  7 | 5.7 | 2 | 5.950000 | 0.240100 | 0.062500000 |\n",
       "|  8 | 7.5 | 3 | 7.533333 | 1.195378 | 0.001111111 |\n",
       "|  9 | 7.2 | 3 | 7.533333 | 1.195378 | 0.111111111 |\n",
       "| 10 | 7.9 | 3 | 7.533333 | 1.195378 | 0.134444444 |\n",
       "\n"
      ],
      "text/plain": [
       "   id days group group.mean btwn     wthin      \n",
       "1   1 5.3  1     6.000000   0.193600 0.490000000\n",
       "2   2 6.0  1     6.000000   0.193600 0.000000000\n",
       "3   3 6.7  1     6.000000   0.193600 0.490000000\n",
       "4   4 5.5  2     5.950000   0.240100 0.202500000\n",
       "5   5 6.2  2     5.950000   0.240100 0.062500000\n",
       "6   6 6.4  2     5.950000   0.240100 0.202500000\n",
       "7   7 5.7  2     5.950000   0.240100 0.062500000\n",
       "8   8 7.5  3     7.533333   1.195378 0.001111111\n",
       "9   9 7.2  3     7.533333   1.195378 0.111111111\n",
       "10 10 7.9  3     7.533333   1.195378 0.134444444"
      ]
     },
     "metadata": {},
     "output_type": "display_data"
    }
   ],
   "source": [
    "df.added.mean$wthin <- (df.added.mean$days - df.added.mean$group.mean)^2\n",
    "df.added.mean"
   ]
  },
  {
   "cell_type": "code",
   "execution_count": 10,
   "metadata": {},
   "outputs": [
    {
     "data": {
      "text/html": [
       "5.12733333333333"
      ],
      "text/latex": [
       "5.12733333333333"
      ],
      "text/markdown": [
       "5.12733333333333"
      ],
      "text/plain": [
       "[1] 5.127333"
      ]
     },
     "metadata": {},
     "output_type": "display_data"
    }
   ],
   "source": [
    "btwn.var <- sum(df.added.mean$btwn)\n",
    "btwn.var"
   ]
  },
  {
   "cell_type": "code",
   "execution_count": 11,
   "metadata": {},
   "outputs": [
    {
     "data": {
      "text/html": [
       "1.75666666666667"
      ],
      "text/latex": [
       "1.75666666666667"
      ],
      "text/markdown": [
       "1.75666666666667"
      ],
      "text/plain": [
       "[1] 1.756667"
      ]
     },
     "metadata": {},
     "output_type": "display_data"
    }
   ],
   "source": [
    "wthin.var <- sum(df.added.mean$wthin)\n",
    "wthin.var"
   ]
  },
  {
   "cell_type": "markdown",
   "metadata": {},
   "source": [
    "between variance degree of freedom is 2(# of groups (3) -1).   \n",
    "within variance degree of freedom is 7(# of samples 10 - # of group 3)."
   ]
  },
  {
   "cell_type": "code",
   "execution_count": 17,
   "metadata": {},
   "outputs": [
    {
     "data": {
      "text/html": [
       "10.2157495256167"
      ],
      "text/latex": [
       "10.2157495256167"
      ],
      "text/markdown": [
       "10.2157495256167"
      ],
      "text/plain": [
       "[1] 10.21575"
      ]
     },
     "metadata": {},
     "output_type": "display_data"
    }
   ],
   "source": [
    "### F statistic\n",
    "(btwn.var/2) / (wthin.var/7) ## 2 is # of group (3) -1 // 7 is # of samples 10 - # of group 3"
   ]
  },
  {
   "cell_type": "markdown",
   "metadata": {},
   "source": [
    "Sum Sq of Group is the same as btwn.var.  \n",
    "Sum Sq of Residuals is the same as wthin.var"
   ]
  },
  {
   "cell_type": "code",
   "execution_count": 18,
   "metadata": {},
   "outputs": [
    {
     "data": {
      "text/plain": [
       "            Df Sum Sq Mean Sq F value  Pr(>F)   \n",
       "group        2  5.127   2.564   10.22 0.00839 **\n",
       "Residuals    7  1.757   0.251                   \n",
       "---\n",
       "Signif. codes:  0 '***' 0.001 '**' 0.01 '*' 0.05 '.' 0.1 ' ' 1"
      ]
     },
     "metadata": {},
     "output_type": "display_data"
    }
   ],
   "source": [
    "df.anvr <- aov(days ~ group, data=df.added.mean)\n",
    "summary(df.anvr) "
   ]
  },
  {
   "cell_type": "code",
   "execution_count": 16,
   "metadata": {},
   "outputs": [
    {
     "data": {
      "text/plain": [
       "  Tukey multiple comparisons of means\n",
       "    95% family-wise confidence level\n",
       "\n",
       "Fit: aov(formula = days ~ group, data = df.added.mean)\n",
       "\n",
       "$group\n",
       "         diff        lwr      upr     p adj\n",
       "2-1 -0.050000 -1.1768029 1.076803 0.9906417\n",
       "3-1  1.533333  0.3287303 2.737936 0.0172584\n",
       "3-2  1.583333  0.4565304 2.710136 0.0105959\n"
      ]
     },
     "metadata": {},
     "output_type": "display_data"
    }
   ],
   "source": [
    "TukeyHSD(df.anvr)"
   ]
  },
  {
   "cell_type": "code",
   "execution_count": null,
   "metadata": {},
   "outputs": [],
   "source": []
  }
 ],
 "metadata": {
  "kernelspec": {
   "display_name": "R",
   "language": "R",
   "name": "ir"
  },
  "language_info": {
   "codemirror_mode": "r",
   "file_extension": ".r",
   "mimetype": "text/x-r-source",
   "name": "R",
   "pygments_lexer": "r",
   "version": "4.0.2"
  }
 },
 "nbformat": 4,
 "nbformat_minor": 4
}
